{
 "cells": [
  {
   "cell_type": "code",
   "execution_count": 16,
   "metadata": {
    "ExecuteTime": {
     "end_time": "2019-03-13T14:20:57.790465Z",
     "start_time": "2019-03-13T14:20:57.777379Z"
    }
   },
   "outputs": [],
   "source": [
    "import numpy as np\n",
    "import pickle\n",
    "import matplotlib.pyplot as plt\n",
    "import pyvan\n",
    "%matplotlib notebook"
   ]
  },
  {
   "cell_type": "code",
   "execution_count": 2,
   "metadata": {
    "ExecuteTime": {
     "end_time": "2019-03-13T14:17:00.007317Z",
     "start_time": "2019-03-13T14:16:59.822344Z"
    }
   },
   "outputs": [],
   "source": [
    "# pickle.dump(lightcurves[0:500], open('ex_lcs.p', 'wb' ))\n",
    "lightcurves = pickle.load(open('ex_lcs.p', 'rb' ) )"
   ]
  },
  {
   "cell_type": "markdown",
   "metadata": {},
   "source": [
    "# Lingering issue for PyVAN release:\n",
    "\n",
    "- Haven't found an elegant way to generalize the RR Lyrae templates. Currently I have the module reading the files in from an explicit location defined in the module. Defining them locally and then requiring that they be passed in is another option, but is not ideal. Could load in the g and r band from sdss as defaults, and allow an optional separate set of filenames for templates to be passed in?\n",
    "\n",
    "- 'threshold' should be a function that takes the dictionary of currently computed fits for that target, and returns True if the threshold is failed, and False if it is not?\n",
    "\n",
    "- Add plotting functions (hopefully the 'buttons' trick still works when importing!)"
   ]
  },
  {
   "cell_type": "code",
   "execution_count": 13,
   "metadata": {
    "ExecuteTime": {
     "end_time": "2019-03-10T18:39:06.952076Z",
     "start_time": "2019-03-10T18:39:00.731004Z"
    }
   },
   "outputs": [
    {
     "name": "stdout",
     "output_type": "stream",
     "text": [
      "The slowest run took 1810.22 times longer than the fastest. This could mean that an intermediate result is being cached.\n",
      "1000000 loops, best of 3: 1.34 µs per loop\n"
     ]
    }
   ],
   "source": [
    "import timeit\n",
    "%timeit threshold(tar_fits[9769204793255087115])"
   ]
  },
  {
   "cell_type": "code",
   "execution_count": 7,
   "metadata": {
    "ExecuteTime": {
     "end_time": "2019-03-13T12:03:56.127061Z",
     "start_time": "2019-03-13T12:03:56.122112Z"
    }
   },
   "outputs": [],
   "source": [
    "import pyvan.pyvan as pyvan"
   ]
  },
  {
   "cell_type": "code",
   "execution_count": 2,
   "metadata": {
    "ExecuteTime": {
     "end_time": "2019-03-13T13:08:08.229140Z",
     "start_time": "2019-03-13T13:06:47.146911Z"
    }
   },
   "outputs": [],
   "source": [
    "# file_name = \"g_s82_kep_curves.dat\"  # Name of file containing unsorted lightcurves from LSD                           \\\n",
    "\n",
    "# directory = '/Users/kellenlawson/Desktop/scialog/sdss_and_kepler/'\n",
    "\n",
    "# lightcurves, obj_ids = pyvan.parse_lc_file_to_list(lc_path = directory+file_name)"
   ]
  },
  {
   "cell_type": "code",
   "execution_count": 3,
   "metadata": {
    "ExecuteTime": {
     "end_time": "2019-03-13T13:40:23.198735Z",
     "start_time": "2019-03-13T13:40:16.613749Z"
    }
   },
   "outputs": [],
   "source": [
    "tar_fits = pyvan.fit(lightcurves[:50], N_cores=2, filt='g')"
   ]
  },
  {
   "cell_type": "code",
   "execution_count": 4,
   "metadata": {
    "ExecuteTime": {
     "end_time": "2019-03-13T13:47:53.380649Z",
     "start_time": "2019-03-13T13:47:53.119108Z"
    }
   },
   "outputs": [
    {
     "name": "stderr",
     "output_type": "stream",
     "text": [
      "pyvan.py:39: RuntimeWarning: invalid value encountered in divide\n",
      "  mfm_series = (data['mag'] - med) / madev  # Number of median absolute deviations of each point from the median\n"
     ]
    },
    {
     "name": "stdout",
     "output_type": "stream",
     "text": [
      "9751014472885018896\n",
      "9751084841629211275\n",
      "9751084841629253911\n",
      "9768976094836399549\n",
      "9769204793255087115\n",
      "9769521452603773556\n",
      "9786955308973797160\n",
      "9786990493345881615\n",
      "9787008085531926321\n",
      "9787078454276096915\n",
      "9787465482369086584\n"
     ]
    }
   ],
   "source": [
    "\n",
    "for lc in lightcurves:\n",
    "    if len(pyvan.get_cands(lc)) > 0:\n",
    "        print lc['obj_id'][0]"
   ]
  },
  {
   "cell_type": "code",
   "execution_count": 3,
   "metadata": {
    "ExecuteTime": {
     "end_time": "2019-03-13T14:17:04.015001Z",
     "start_time": "2019-03-13T14:17:03.799603Z"
    }
   },
   "outputs": [
    {
     "name": "stdout",
     "output_type": "stream",
     "text": [
      "11\n"
     ]
    },
    {
     "name": "stderr",
     "output_type": "stream",
     "text": [
      "pyvan.py:39: RuntimeWarning: invalid value encountered in divide\n",
      "  mfm_series = (data['mag'] - med) / madev  # Number of median absolute deviations of each point from the median\n"
     ]
    }
   ],
   "source": [
    "cand_lcs = []\n",
    "for lc in lightcurves:\n",
    "    if len(pyvan.get_cands(lc)) > 0:\n",
    "        cand_lcs.append(lc)\n",
    "print len(cand_lcs)"
   ]
  },
  {
   "cell_type": "code",
   "execution_count": 7,
   "metadata": {
    "ExecuteTime": {
     "end_time": "2019-03-13T13:51:44.103577Z",
     "start_time": "2019-03-13T13:50:48.641095Z"
    }
   },
   "outputs": [],
   "source": [
    "tar_fits = pyvan.fit(cand_lcs, N_cores=2, filt='g')"
   ]
  },
  {
   "cell_type": "code",
   "execution_count": 8,
   "metadata": {
    "ExecuteTime": {
     "end_time": "2019-03-13T13:52:27.041639Z",
     "start_time": "2019-03-13T13:52:27.029933Z"
    }
   },
   "outputs": [
    {
     "name": "stdout",
     "output_type": "stream",
     "text": [
      "{'flare-quiescent': 9.394831851672604, 'quiescent-rrlyrae': nan, 'flare-rrlyrae': nan}\n",
      "{'flare-quiescent': 14.604561731349108, 'quiescent-rrlyrae': -9.110097520921478, 'flare-rrlyrae': 5.49446421042763}\n",
      "{'flare-quiescent': 22.113904894834405, 'quiescent-rrlyrae': -30.64547215932164, 'flare-rrlyrae': -8.531567264487233}\n",
      "{'flare-quiescent': 4.012875359005577, 'quiescent-rrlyrae': nan, 'flare-rrlyrae': nan}\n",
      "{'flare-quiescent': 1.0677384458749941, 'quiescent-rrlyrae': nan, 'flare-rrlyrae': nan}\n",
      "{'flare-quiescent': 20.747369890286407, 'quiescent-rrlyrae': -25.42644395567145, 'flare-rrlyrae': -4.679074065385041}\n",
      "{'flare-quiescent': 6.8286107843915715, 'quiescent-rrlyrae': nan, 'flare-rrlyrae': nan}\n",
      "{'flare-quiescent': 16.10364268566935, 'quiescent-rrlyrae': -12.683190418196924, 'flare-rrlyrae': 3.4204522674724256}\n",
      "{'flare-quiescent': 15.669579569160543, 'quiescent-rrlyrae': -29.019327950428007, 'flare-rrlyrae': -13.349748381267464}\n",
      "{'flare-quiescent': 9.965717324509697, 'quiescent-rrlyrae': nan, 'flare-rrlyrae': nan}\n",
      "{'flare-quiescent': 13.679783143462451, 'quiescent-rrlyrae': -14.270982248141848, 'flare-rrlyrae': -0.5911991046793972}\n"
     ]
    }
   ],
   "source": [
    "for oi in tar_fits:\n",
    "    print tar_fits[oi]['rel_fit']"
   ]
  },
  {
   "cell_type": "code",
   "execution_count": 17,
   "metadata": {
    "ExecuteTime": {
     "end_time": "2019-03-13T14:21:35.021546Z",
     "start_time": "2019-03-13T14:21:34.932729Z"
    },
    "code_folding": []
   },
   "outputs": [],
   "source": [
    "import lmfit\n",
    "def fit_custom_flare(data):\n",
    "    \"\"\"\n",
    "    Carries out fitting of all flare candidates in a target light-curve.\n",
    "\n",
    "    Parameters\n",
    "    ----------\n",
    "    data : structured ndarray\n",
    "        Light-curve data containing at least columns labeled 'mjd', 'mag', and 'magErr'.\n",
    "\n",
    "    expt : float\n",
    "        The exposure time in seconds for observations in the light-curve. This parameter is only used for informing the\n",
    "        bounds some of the flare parameters.\n",
    "\n",
    "    flare_cand_fn : callable, optional\n",
    "        A function that takes 'data' as it's argument, and returns a list of flare candidate indices for data. Default\n",
    "        option is as utilized in Lawson+(2019)\n",
    "\n",
    "    N_concurrent: int, optional\n",
    "        The number of flare events to fit simultaneously. A light-curve with many events will take a LONG time to fit if\n",
    "        this parameter is changed to a large number. Alternatively, if too low, may allow a single event to determine a\n",
    "        quiescent magnitude that fits poorly to all other targets. In practice with PTF data, the default value of 3\n",
    "        seemed to be the sweet spot.\n",
    "\n",
    "    Returns\n",
    "    -------\n",
    "    : dict\n",
    "        A dictionary containing information regarding the achieved fit.\n",
    "    \"\"\"\n",
    "    N_concurrent = 3\n",
    "    expt = 60.\n",
    "    peaks = pyvan.get_cands(data)\n",
    "    if len(peaks) == 0:\n",
    "        return {'fit': False, 'logL': np.nan}\n",
    "    expt = expt / (86400.) # Converting from seconds to days\n",
    "    N = (len(peaks) if len(peaks) <= N_concurrent else N_concurrent)\n",
    "    \n",
    "    fit_params = []\n",
    "    m0_init, m0_err, t0_init, dt_init, dm_init = pyvan.initialize_flare_params(data, peaks)\n",
    "    fmodel = lmfit.Model(pyvan._N_flare_model)\n",
    "    fmodel.set_param_hint('m0', vary = True, value = m0_init, min = (m0_init - 10*m0_err), max = (m0_init + 10*m0_err))\n",
    "    for i in range(N):\n",
    "        fmodel.set_param_hint('t0_'+str(i+1), vary = True, value = t0_init[i], min = (t0_init[i] - 0.08), max = (t0_init[i] + dt_init[i] - expt))\n",
    "        fmodel.set_param_hint('dm_'+str(i+1), vary = True, value = dm_init[i], min = 0., max = (dm_init[i] + 5.))\n",
    "        fmodel.set_param_hint('dt_'+str(i+1), vary = True, value = dt_init[i], min = expt/5., max = 0.5)\n",
    "    \n",
    "    suppressed_peaks = peaks[N:]\n",
    "    weights = 1./data['magErr']\n",
    "    weights[suppressed_peaks] = 0.\n",
    "    result = fmodel.fit(data['mag'], t = data['mjd'], weights = weights, method = 'differential_evolution')\n",
    "    fit_params.append(result.best_values['m0'])\n",
    "    \n",
    "    for i in range(N):\n",
    "        fit_params.append(result.best_values['t0_'+str(i+1)])\n",
    "        fit_params.append(result.best_values['dt_'+str(i+1)])\n",
    "        fit_params.append(result.best_values['dm_'+str(i+1)])\n",
    "    fit_params = np.array(fit_params)\n",
    "    current_model = result.best_fit\n",
    "    \n",
    "    if N < len(peaks):\n",
    "        for i in range(N, len(peaks)):\n",
    "            fmodel = lmfit.Model(pyvan._flarefn)\n",
    "            fmodel.set_param_hint('t0', vary = True, value = t0_init[i], min = (t0_init[i] - 0.08), max = (t0_init[i] + dt_init[i] - expt))\n",
    "            fmodel.set_param_hint('dm', vary = True, value = dm_init[i], min = 0., max = (dm_init[i] + 5.))\n",
    "            fmodel.set_param_hint('dt', vary = True, value = dt_init[i], min = expt/5., max = 0.5)\n",
    "\n",
    "            result = fmodel.fit(data['mag'], t= data['mjd'], weights = 1./data['magErr'], method = 'differential_evolution', model_in = current_model)\n",
    "            fit_params = np.append(fit_params, result.best_values['t0'])\n",
    "            fit_params = np.append(fit_params, result.best_values['dt'])\n",
    "            fit_params = np.append(fit_params, result.best_values['dm']) \n",
    "            current_model = result.best_fit\n",
    "    chisq = pyvan.chi_squared(data['mag'], current_model, data['magErr'])\n",
    "    return {'name': 'custom_flare', 'chisq': chisq,'logL': pyvan.log_likelihood(chisq, len(data)), 'params': fit_params, 'peaks': peaks, 'fit': True}"
   ]
  },
  {
   "cell_type": "code",
   "execution_count": null,
   "metadata": {},
   "outputs": [],
   "source": [
    "tar_fits = pyvan.fit(cand_lcs, N_cores=2, filt='g')"
   ]
  },
  {
   "cell_type": "code",
   "execution_count": 19,
   "metadata": {
    "ExecuteTime": {
     "end_time": "2019-03-13T14:22:03.783605Z",
     "start_time": "2019-03-13T14:21:54.513548Z"
    }
   },
   "outputs": [],
   "source": [
    "tar_fits2 = pyvan.fit(cand_lcs, N_cores=2, filt='g', templates=[fit_custom_flare, 'quiescent'])"
   ]
  },
  {
   "cell_type": "code",
   "execution_count": 21,
   "metadata": {
    "ExecuteTime": {
     "end_time": "2019-03-13T14:10:27.468877Z",
     "start_time": "2019-03-13T14:10:27.456504Z"
    }
   },
   "outputs": [
    {
     "name": "stdout",
     "output_type": "stream",
     "text": [
      "-12.717129934917958 -13.762197902010746\n",
      "-44.52279363879063 -44.52279363880997\n",
      "-24.508271129945236 -24.508271129936418\n",
      "-17.264110039367765 -17.263488957924135\n",
      "-78.68595211382701 -78.68595211442486\n",
      "-33.2980017745291 -33.29800177453236\n",
      "-15.305308108288251 -15.305308108288271\n",
      "-10.611635966901098 -10.611635966639241\n",
      "-17.04043792175843 -17.04025191253477\n",
      "-24.48628865476382 -24.486288661448977\n",
      "-45.48821523047427 -45.48819889622234\n"
     ]
    }
   ],
   "source": [
    "for tar in tar_fits:\n",
    "    print tar_fits[tar]['flare']['logL'], tar_fits2[tar]['custom_flare']['logL']"
   ]
  },
  {
   "cell_type": "code",
   "execution_count": 18,
   "metadata": {
    "ExecuteTime": {
     "end_time": "2019-03-13T14:21:48.200657Z",
     "start_time": "2019-03-13T14:21:48.191783Z"
    }
   },
   "outputs": [],
   "source": [
    "def _default_failure_threshold(target_fits):\n",
    "    \"\"\"\n",
    "    Default threshold function for truncating fitting on a target. Value of dl_fq_threshold is based on analysis in\n",
    "    Lawson+(2019). Returns True if the procedure is to skip further fits. \n",
    "    \"\"\"\n",
    "    if 'flare' in target_fits:\n",
    "        if not target_fits['flare']['fit']:\n",
    "            print 'a'\n",
    "            return True  # If the flare fit has been attempted but failed (due to lack of candidates), returns True\n",
    "        if 'quiescent' in target_fits:\n",
    "            dl_fq_threshold = 13.32  # Determined with simulation fitting, see: Lawson+(2019)\n",
    "            if target_fits['flare']['logL'] - target_fits['quiescent']['logL'] < dl_fq_threshold:\n",
    "                return True  # If the flare and quiet fit have completed but fall below threshold dl_fq value, returns True\n",
    "    return False"
   ]
  },
  {
   "cell_type": "code",
   "execution_count": 25,
   "metadata": {
    "ExecuteTime": {
     "end_time": "2019-03-13T14:23:33.878755Z",
     "start_time": "2019-03-13T14:23:33.862178Z"
    }
   },
   "outputs": [],
   "source": [
    "def sine_fn(t, t0, dt, m0, dm):\n",
    "    import numpy as np\n",
    "    T = (t-t0)/dt\n",
    "    return m0 + dm*np.sin(T*2.*np.pi)\n",
    "\n",
    "def sine_bounds(data):\n",
    "    from pyvan import med_err\n",
    "    import numpy as np\n",
    "    time, mag, magErr = data['mjd'], data['mag'], data['magErr']\n",
    "    m0_err = med_err(mag)\n",
    "    m0 = np.median(mag) + m0_err*np.array([-3, 3])\n",
    "    \n",
    "    dm = np.array([0, 4])\n",
    "    \n",
    "    dt = np.array([0.1, 2])\n",
    "    \n",
    "    t0 = np.min(time) + np.array([0, np.max(dt)])\n",
    "    \n",
    "    return t0, dt, m0, dm\n",
    "\n",
    "sine_dict = {'fn': sine_fn, 'bounds': sine_bounds, 'args': ['t0', 'dt', 'm0', 'dm'], 'name': 'sine'}"
   ]
  },
  {
   "cell_type": "code",
   "execution_count": 26,
   "metadata": {
    "ExecuteTime": {
     "end_time": "2019-03-13T14:23:47.805687Z",
     "start_time": "2019-03-13T14:23:35.973727Z"
    }
   },
   "outputs": [],
   "source": [
    "tar_fits3 = pyvan.fit(cand_lcs, N_cores=3, filt=None, templates=[sine_dict, 'quiescent'])"
   ]
  },
  {
   "cell_type": "code",
   "execution_count": 29,
   "metadata": {
    "ExecuteTime": {
     "end_time": "2019-03-13T14:24:07.982080Z",
     "start_time": "2019-03-13T14:24:07.976212Z"
    }
   },
   "outputs": [
    {
     "name": "stdout",
     "output_type": "stream",
     "text": [
      "-35.11968108587917\n"
     ]
    }
   ],
   "source": [
    "print tar_fits3[2]['sine']['logL']"
   ]
  },
  {
   "cell_type": "code",
   "execution_count": 13,
   "metadata": {
    "ExecuteTime": {
     "end_time": "2019-03-13T13:28:32.179764Z",
     "start_time": "2019-03-13T13:28:32.164269Z"
    }
   },
   "outputs": [
    {
     "name": "stdout",
     "output_type": "stream",
     "text": [
      "a\n",
      "True\n",
      "a\n",
      "True\n",
      "a\n",
      "True\n",
      "a\n",
      "True\n",
      "a\n",
      "True\n",
      "a\n",
      "True\n",
      "a\n",
      "True\n",
      "a\n",
      "True\n",
      "a\n",
      "True\n",
      "a\n",
      "True\n",
      "a\n",
      "True\n",
      "a\n",
      "True\n",
      "a\n",
      "True\n",
      "a\n",
      "True\n",
      "a\n",
      "True\n",
      "a\n",
      "True\n",
      "a\n",
      "True\n",
      "a\n",
      "True\n",
      "a\n",
      "True\n",
      "a\n",
      "True\n"
     ]
    }
   ],
   "source": [
    "for target in np.array(tar_fits.keys())[::25]:\n",
    "    th = _default_failure_threshold(tar_fits[target])\n",
    "    print th\n",
    "#         good += 1"
   ]
  },
  {
   "cell_type": "code",
   "execution_count": 17,
   "metadata": {
    "ExecuteTime": {
     "end_time": "2019-03-13T13:33:01.282217Z",
     "start_time": "2019-03-13T13:33:01.134154Z"
    }
   },
   "outputs": [
    {
     "name": "stdout",
     "output_type": "stream",
     "text": [
      "2\n",
      "2\n",
      "2\n",
      "2\n",
      "2\n",
      "2\n",
      "2\n",
      "2\n",
      "2\n",
      "2\n",
      "2\n",
      "2\n",
      "2\n",
      "2\n",
      "2\n",
      "2\n",
      "2\n",
      "2\n",
      "2\n",
      "2\n",
      "2\n",
      "2\n",
      "2\n",
      "2\n",
      "2\n",
      "2\n",
      "2\n",
      "2\n",
      "2\n",
      "2\n",
      "2\n",
      "2\n",
      "2\n",
      "2\n",
      "2\n",
      "2\n",
      "2\n",
      "2\n",
      "2\n",
      "2\n",
      "2\n",
      "2\n",
      "2\n",
      "2\n",
      "2\n",
      "2\n",
      "2\n",
      "2\n",
      "2\n",
      "2\n",
      "2\n",
      "2\n",
      "2\n",
      "2\n",
      "2\n",
      "2\n",
      "2\n",
      "2\n",
      "2\n",
      "2\n",
      "2\n",
      "2\n",
      "2\n",
      "2\n",
      "2\n",
      "2\n",
      "2\n",
      "2\n",
      "2\n",
      "2\n",
      "2\n",
      "2\n",
      "2\n",
      "2\n",
      "2\n",
      "2\n",
      "2\n",
      "2\n",
      "3\n",
      "2\n",
      "2\n",
      "2\n",
      "2\n",
      "3\n",
      "2\n",
      "2\n",
      "2\n",
      "2\n",
      "2\n",
      "2\n",
      "2\n",
      "2\n",
      "2\n",
      "2\n",
      "2\n",
      "2\n",
      "2\n",
      "2\n",
      "2\n",
      "2\n",
      "2\n",
      "2\n",
      "2\n",
      "2\n",
      "2\n",
      "2\n",
      "2\n",
      "2\n",
      "2\n",
      "2\n",
      "2\n",
      "2\n",
      "2\n",
      "2\n",
      "2\n",
      "2\n",
      "2\n",
      "2\n",
      "2\n",
      "2\n",
      "2\n",
      "2\n",
      "2\n",
      "2\n",
      "2\n",
      "2\n",
      "2\n",
      "2\n",
      "2\n",
      "2\n",
      "2\n",
      "2\n",
      "2\n",
      "2\n",
      "2\n",
      "2\n",
      "2\n",
      "2\n",
      "2\n",
      "2\n",
      "2\n",
      "2\n",
      "2\n",
      "2\n",
      "2\n",
      "2\n",
      "2\n",
      "2\n",
      "2\n",
      "2\n",
      "2\n",
      "2\n",
      "3\n",
      "2\n",
      "3\n",
      "2\n",
      "2\n",
      "2\n",
      "2\n",
      "3\n",
      "2\n",
      "2\n",
      "2\n",
      "2\n",
      "2\n",
      "2\n",
      "2\n",
      "2\n",
      "2\n",
      "2\n",
      "2\n",
      "2\n",
      "2\n",
      "2\n",
      "2\n",
      "2\n",
      "2\n",
      "2\n",
      "2\n",
      "2\n",
      "2\n",
      "2\n",
      "2\n",
      "2\n",
      "2\n",
      "2\n",
      "2\n",
      "2\n",
      "2\n",
      "2\n",
      "2\n",
      "2\n",
      "2\n",
      "2\n",
      "2\n",
      "2\n",
      "2\n",
      "2\n",
      "2\n",
      "2\n",
      "2\n",
      "2\n",
      "2\n",
      "2\n",
      "2\n",
      "2\n",
      "2\n",
      "2\n",
      "2\n",
      "2\n",
      "2\n",
      "2\n",
      "2\n",
      "2\n",
      "2\n",
      "2\n",
      "2\n",
      "2\n",
      "3\n",
      "2\n",
      "2\n",
      "2\n",
      "2\n",
      "2\n",
      "2\n",
      "2\n",
      "2\n",
      "2\n",
      "2\n",
      "2\n",
      "2\n",
      "2\n",
      "2\n",
      "2\n",
      "2\n",
      "2\n",
      "2\n",
      "2\n",
      "2\n",
      "2\n",
      "2\n",
      "2\n",
      "2\n",
      "2\n",
      "2\n",
      "2\n",
      "2\n",
      "2\n",
      "2\n",
      "3\n",
      "2\n",
      "2\n",
      "2\n",
      "2\n",
      "2\n",
      "2\n",
      "2\n",
      "2\n",
      "2\n",
      "2\n",
      "2\n",
      "2\n",
      "2\n",
      "2\n",
      "2\n",
      "2\n",
      "2\n",
      "2\n",
      "2\n",
      "2\n",
      "2\n",
      "2\n",
      "3\n",
      "2\n",
      "2\n",
      "2\n",
      "2\n",
      "2\n",
      "2\n",
      "2\n",
      "2\n",
      "2\n",
      "2\n",
      "2\n",
      "2\n",
      "2\n",
      "2\n",
      "2\n",
      "2\n",
      "2\n",
      "2\n",
      "2\n",
      "2\n",
      "2\n",
      "2\n",
      "2\n",
      "2\n",
      "2\n",
      "2\n",
      "2\n",
      "2\n",
      "2\n",
      "2\n",
      "2\n",
      "2\n",
      "2\n",
      "2\n",
      "2\n",
      "2\n",
      "2\n",
      "2\n",
      "2\n",
      "2\n",
      "2\n",
      "2\n",
      "2\n",
      "2\n",
      "2\n",
      "2\n",
      "2\n",
      "2\n",
      "2\n",
      "2\n",
      "2\n",
      "2\n",
      "2\n",
      "2\n",
      "2\n",
      "2\n",
      "2\n",
      "2\n",
      "2\n",
      "2\n",
      "2\n",
      "2\n",
      "2\n",
      "2\n",
      "2\n",
      "2\n",
      "2\n",
      "2\n",
      "2\n",
      "2\n",
      "2\n",
      "2\n",
      "2\n",
      "2\n",
      "2\n",
      "2\n",
      "2\n",
      "2\n",
      "2\n",
      "2\n",
      "2\n",
      "2\n",
      "2\n",
      "2\n",
      "2\n",
      "2\n",
      "2\n",
      "2\n",
      "2\n",
      "2\n",
      "2\n",
      "2\n",
      "2\n",
      "2\n",
      "2\n",
      "2\n",
      "2\n",
      "2\n",
      "2\n",
      "2\n",
      "2\n",
      "2\n",
      "2\n",
      "2\n",
      "2\n",
      "3\n",
      "2\n",
      "2\n",
      "2\n",
      "2\n",
      "2\n",
      "2\n",
      "2\n",
      "2\n",
      "2\n",
      "2\n",
      "2\n",
      "2\n",
      "2\n",
      "2\n",
      "2\n",
      "2\n",
      "2\n",
      "2\n",
      "2\n",
      "2\n",
      "2\n",
      "2\n",
      "2\n",
      "2\n",
      "2\n",
      "2\n",
      "2\n",
      "2\n",
      "2\n",
      "2\n",
      "2\n",
      "2\n",
      "2\n",
      "2\n",
      "2\n",
      "2\n",
      "2\n",
      "2\n",
      "2\n",
      "2\n",
      "2\n",
      "2\n",
      "2\n",
      "2\n",
      "2\n",
      "2\n",
      "2\n",
      "2\n",
      "2\n",
      "2\n",
      "2\n",
      "2\n",
      "2\n",
      "2\n",
      "2\n",
      "2\n",
      "2\n",
      "2\n",
      "2\n",
      "2\n",
      "2\n",
      "2\n",
      "2\n",
      "2\n",
      "2\n",
      "2\n",
      "2\n",
      "2\n",
      "2\n",
      "3\n",
      "2\n",
      "2\n",
      "3\n",
      "2\n",
      "2\n",
      "2\n",
      "2\n",
      "2\n",
      "2\n",
      "2\n",
      "2\n",
      "2\n",
      "2\n",
      "2\n",
      "2\n",
      "2\n",
      "2\n",
      "2\n",
      "2\n",
      "2\n",
      "2\n",
      "2\n",
      "2\n",
      "2\n",
      "2\n",
      "2\n",
      "2\n",
      "2\n",
      "2\n",
      "2\n",
      "2\n",
      "2\n",
      "2\n",
      "2\n",
      "2\n",
      "2\n",
      "2\n",
      "2\n",
      "2\n",
      "2\n",
      "2\n",
      "2\n",
      "2\n",
      "2\n",
      "2\n",
      "2\n",
      "2\n",
      "2\n",
      "2\n",
      "2\n",
      "2\n"
     ]
    }
   ],
   "source": [
    "for target in np.array(tar_fits.keys()):\n",
    "    N_templates_fit = 0\n",
    "    template_fits = tar_fits[target]\n",
    "    for template in ['flare', 'quiescent', 'rrlyrae']:\n",
    "        if template_fits[template]['fit']:\n",
    "            N_templates_fit += 1\n",
    "    print N_templates_fit"
   ]
  },
  {
   "cell_type": "code",
   "execution_count": 14,
   "metadata": {
    "ExecuteTime": {
     "end_time": "2019-03-13T13:28:58.493873Z",
     "start_time": "2019-03-13T13:28:58.488088Z"
    }
   },
   "outputs": [
    {
     "name": "stdout",
     "output_type": "stream",
     "text": [
      "{'logL': nan, 'fit': False}\n"
     ]
    }
   ],
   "source": [
    "print tar_fits[target]['flare']"
   ]
  },
  {
   "cell_type": "code",
   "execution_count": 15,
   "metadata": {
    "ExecuteTime": {
     "end_time": "2019-03-13T13:29:35.272671Z",
     "start_time": "2019-03-13T13:29:35.253149Z"
    }
   },
   "outputs": [
    {
     "data": {
      "text/plain": [
       "NoneType"
      ]
     },
     "execution_count": 15,
     "metadata": {},
     "output_type": "execute_result"
    }
   ],
   "source": [
    "pyvan.NoneType"
   ]
  },
  {
   "cell_type": "code",
   "execution_count": 16,
   "metadata": {
    "ExecuteTime": {
     "end_time": "2019-03-13T13:30:20.015819Z",
     "start_time": "2019-03-13T13:30:20.010075Z"
    }
   },
   "outputs": [
    {
     "name": "stdout",
     "output_type": "stream",
     "text": [
      "working\n"
     ]
    }
   ],
   "source": [
    "if not isinstance(_default_failure_threshold, pyvan.NoneType):\n",
    "    print 'working'"
   ]
  },
  {
   "cell_type": "code",
   "execution_count": null,
   "metadata": {},
   "outputs": [],
   "source": []
  }
 ],
 "metadata": {
  "kernelspec": {
   "display_name": "Python 2",
   "language": "python",
   "name": "python2"
  },
  "language_info": {
   "codemirror_mode": {
    "name": "ipython",
    "version": 2
   },
   "file_extension": ".py",
   "mimetype": "text/x-python",
   "name": "python",
   "nbconvert_exporter": "python",
   "pygments_lexer": "ipython2",
   "version": "2.7.6"
  }
 },
 "nbformat": 4,
 "nbformat_minor": 2
}
